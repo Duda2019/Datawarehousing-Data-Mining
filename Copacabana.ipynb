{
 "cells": [
  {
   "cell_type": "markdown",
   "metadata": {},
   "source": [
    "Nome: Eduarda do Carmo David\n",
    "- RA: 819163784"
   ]
  },
  {
   "cell_type": "code",
   "execution_count": null,
   "metadata": {},
   "outputs": [],
   "source": [
    "%matplotlib inline\n",
    "from matplotlib import pyplot as plt\n",
    "import pandas as pd\n",
    "import numpy as np\n",
    "import csv\n",
    "import matplotlib.pyplot\n",
    "import statistics as st\n",
    "import numpy\n",
    "import stemgraphic as ste"
   ]
  },
  {
   "cell_type": "markdown",
   "metadata": {},
   "source": [
    "1 - Faça um head() dos conjuntos de dados."
   ]
  },
  {
   "cell_type": "code",
   "execution_count": null,
   "metadata": {},
   "outputs": [],
   "source": [
    "df = pd.read_csv('/Users/Eduar/Downloads/Aula04/copacabana.csv', delimiter=';')"
   ]
  },
  {
   "cell_type": "code",
   "execution_count": null,
   "metadata": {},
   "outputs": [],
   "source": [
    "df.head()"
   ]
  },
  {
   "cell_type": "markdown",
   "metadata": {},
   "source": [
    "2 - Construa uma distribuição de freqüência completa para as variáveis categóricas dos conjuntos de dados.\n"
   ]
  },
  {
   "cell_type": "code",
   "execution_count": null,
   "metadata": {},
   "outputs": [],
   "source": [
    "for metric in list(df.columns):\n",
    "    absolute, relative = (df[metric].value_counts(), df[metric].value_counts(normalize=True))\n",
    "    print(50*'-')\n",
    "    dict_results = {'Column': metric,\n",
    "                     'Value': list(absolute.index), \n",
    "                     'Fi': list(absolute), #Frequencia absoluta\n",
    "                     'fi%': list(relative), #Frequencia relativa\n",
    "                     'Fai': list(np.cumsum(absolute)), #Frequencia acumulada absoluta\n",
    "                     'fai%': list(np.cumsum(relative))} #Frequencia acumulada relativa                \n",
    "    df_results = pd.DataFrame(dict_results)\n",
    "    print(df_results)"
   ]
  },
  {
   "cell_type": "markdown",
   "metadata": {},
   "source": [
    "3 - Construa gráficos adequados para representar: \n",
    "- Copacabana: preço X distância da praia; área construída X distância da praia "
   ]
  },
  {
   "cell_type": "code",
   "execution_count": null,
   "metadata": {},
   "outputs": [],
   "source": [
    "fig, ax = plt.subplots()\n",
    "ax.plot(df['VAL_UNIT'], df['VAL_UNIT'], '-r')\n",
    "ax.plot(df['DistPraia'], df['DistPraia'], '-b')\n",
    "ax.legend(loc='upper left')"
   ]
  },
  {
   "cell_type": "code",
   "execution_count": null,
   "metadata": {},
   "outputs": [],
   "source": [
    "fig, ax = plt.subplots()\n",
    "ax.plot(df['AreaConstruida'], df['AreaConstruida'], '-r')\n",
    "ax.plot(df['DistPraia'],df['DistPraia'], '-b')\n",
    "ax.legend(loc='upper left')"
   ]
  },
  {
   "cell_type": "markdown",
   "metadata": {},
   "source": [
    "4 - Construa histogramas para: \n",
    "- Copacabana: quartos"
   ]
  },
  {
   "cell_type": "code",
   "execution_count": null,
   "metadata": {},
   "outputs": [],
   "source": [
    "df['Quartos'].value_counts()"
   ]
  },
  {
   "cell_type": "code",
   "execution_count": null,
   "metadata": {},
   "outputs": [],
   "source": [
    "df['Quartos'].value_counts().plot(kind='bar')\n",
    "plt.show()"
   ]
  },
  {
   "cell_type": "markdown",
   "metadata": {},
   "source": [
    "5 - Construa diagramas de ramos e folhas para:\n",
    "- Copacabana: quartos\n",
    "\n",
    "    -Obs: use matplotlib.pyplot.stem"
   ]
  },
  {
   "cell_type": "code",
   "execution_count": null,
   "metadata": {},
   "outputs": [],
   "source": [
    "graph = ste.stem_graphic(df.groupby('Quartos').size())\n",
    "plt.show(graph)"
   ]
  },
  {
   "cell_type": "markdown",
   "metadata": {},
   "source": [
    "6 - Calcule a média aritmética para classe no Titanic e quartos no Copacabana."
   ]
  },
  {
   "cell_type": "code",
   "execution_count": null,
   "metadata": {},
   "outputs": [],
   "source": [
    "df.groupby('Quartos').size().mean()"
   ]
  },
  {
   "cell_type": "markdown",
   "metadata": {},
   "source": [
    "7 - Calcule a moda para classe no Titanic e quartos no Copacabana. "
   ]
  },
  {
   "cell_type": "code",
   "execution_count": null,
   "metadata": {},
   "outputs": [],
   "source": [
    "result_moda = list(df['Quartos'].mode())\n",
    "df[df['Quartos']==result_moda[0]].groupby('Quartos').size()"
   ]
  },
  {
   "cell_type": "markdown",
   "metadata": {},
   "source": [
    "8 - Calcule a mediana para classe no Titanic e quartos no Copacabana."
   ]
  },
  {
   "cell_type": "code",
   "execution_count": null,
   "metadata": {},
   "outputs": [],
   "source": [
    "df.groupby('Quartos').size().median()"
   ]
  },
  {
   "cell_type": "markdown",
   "metadata": {},
   "source": [
    "9 - Calcule as medidas de dispersão para classe no Titanic e quartos no Copacabana."
   ]
  },
  {
   "cell_type": "code",
   "execution_count": null,
   "metadata": {},
   "outputs": [],
   "source": [
    "desc = dict(df.groupby('Quartos').size().describe())\n",
    "list_df = list(df['Quartos'].value_counts())\n",
    "\n",
    "total_amplitude, interquart_amplitude, list_dict, standard_deviation = (desc['max']-desc['min'], \n",
    "                                                                        desc['75%']-desc['25%'], \n",
    "                                                                        [desc['75%'],desc['25%']],\n",
    "                                                                       desc['std'])                                     \n",
    "semi_interq_ampl = (list_dict[0]-list_dict[1])/(len(list_dict))\n",
    "series_list = pd.Series(list_df)\n",
    "mean_deviation, variance_value, coef_variation = (series_list.mad(), \n",
    "                                                  st.variance(list_df), \n",
    "                                                  (standard_deviation)/(st.mean(list_df)))\n",
    "\n",
    "df_result = pd.DataFrame([('Total Amplitude', total_amplitude),\n",
    "                          ('Interquart. Ampli.', interquart_amplitude),\n",
    "                          ('semi-interquar. Ampl.', semi_interq_ampl),\n",
    "                          ('Mean Deviation', mean_deviation),\n",
    "                          ('Standard Deviation', standard_deviation),\n",
    "                          ('Variance', variance_value),\n",
    "                          ('Coefficient Variation', coef_variation)],\n",
    "                         columns=['Dispersion Metric', 'Result'])\n",
    "df_result"
   ]
  },
  {
   "cell_type": "markdown",
   "metadata": {},
   "source": [
    "10 - Determine e interprete as medidas de assimetria e curtose para classe no Titanic e quartos no Copacabana."
   ]
  },
  {
   "cell_type": "code",
   "execution_count": null,
   "metadata": {},
   "outputs": [],
   "source": [
    "def getMode():\n",
    "    list_mode = list(df['Quartos'].mode())\n",
    "    list_mode = list(df[df['Quartos'] == list_mode[0]].groupby('Quartos').size())\n",
    "    return list_mode[0]\n",
    "\n",
    "def getStandardDeviation():\n",
    "    desc = dict(df.groupby('Quartos').size().describe())\n",
    "    return desc['std']\n",
    "\n",
    "mean_value = df.groupby('Quartos').size().mean()\n",
    "mode_value = getMode()\n",
    "stand_deviation = getStandardDeviation()\n",
    "median_value = df.groupby('Quartos').size().median()\n",
    "\n",
    "coef_pearson = (mean_value - mode_value)/(stand_deviation)\n",
    "\n",
    "if (coef_pearson == 0) or (mean_value == median_value and median_value == mode_value):\n",
    "    print('A medida de assimetria é: simétrica! \\n Resultado: {}'.format(coef_pearson))\n",
    "elif (coef_pearson < 0) or (mean_value <= median_value and median_value <= mode_value):\n",
    "    print('A medida de assimetria é: Assimétrica negativa! \\n Resultado: {}'.format(coef_pearson))\n",
    "elif (coef_pearson > 0) or (mean_value <= median_value and median_value <= mode_value):\n",
    "    print('A medida de assimetria é: Assimétrica positiva! \\n Resultado: {}'.format(coef_pearson))"
   ]
  },
  {
   "cell_type": "code",
   "execution_count": null,
   "metadata": {},
   "outputs": [],
   "source": [
    "def getTotalAmplitude():\n",
    "    desc = dict(df.groupby('Quartos').size().describe())\n",
    "    q3 = desc['75%']\n",
    "    q1 = desc['25%']\n",
    "    return q3 - q1\n",
    "\n",
    "total_amplitude = getTotalAmplitude()\n",
    "p90 = np.percentile(list(df['Quartos'].value_counts()), 90)\n",
    "p10 = np.percentile(list(df['Quartos'].value_counts()),10)\n",
    "\n",
    "k = (total_amplitude)/(2 * (p90 - p10))\n",
    "\n",
    "if (k < 0.263):\n",
    "    print('A distribuição referente ao grau de achatamento é Leptocúrtica! \\n Curtose = {}'.format(k))\n",
    "elif (k == 0.263):\n",
    "    print('A distribuição referente ao grau de achatamento é Mesocúrtica! \\n Curtose = {}'.format(k))\n",
    "else:\n",
    "    print('A distribuição referente ao grau de achatamento é Platicúrtica! \\n Curtose = {}'.format(k))"
   ]
  },
  {
   "cell_type": "markdown",
   "metadata": {},
   "source": [
    "11 - Faça o gráfico Box Plot para classe no Titanic e quartos no Copacabana."
   ]
  },
  {
   "cell_type": "code",
   "execution_count": null,
   "metadata": {},
   "outputs": [],
   "source": [
    "df.boxplot(column='Quartos')"
   ]
  },
  {
   "cell_type": "code",
   "execution_count": null,
   "metadata": {},
   "outputs": [],
   "source": []
  }
 ],
 "metadata": {
  "kernelspec": {
   "display_name": "Python 3",
   "language": "python",
   "name": "python3"
  },
  "language_info": {
   "codemirror_mode": {
    "name": "ipython",
    "version": 3
   },
   "file_extension": ".py",
   "mimetype": "text/x-python",
   "name": "python",
   "nbconvert_exporter": "python",
   "pygments_lexer": "ipython3",
   "version": "3.7.3"
  }
 },
 "nbformat": 4,
 "nbformat_minor": 2
}
