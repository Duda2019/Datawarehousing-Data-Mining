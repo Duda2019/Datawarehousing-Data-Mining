{
 "cells": [
  {
   "cell_type": "markdown",
   "metadata": {},
   "source": [
    "Nome: Eduarda do Carmo David\n",
    "- RA: 819163784"
   ]
  },
  {
   "cell_type": "code",
   "execution_count": null,
   "metadata": {},
   "outputs": [],
   "source": [
    "%matplotlib inline\n",
    "from matplotlib import pyplot as plt\n",
    "from pydataset import data as dt\n",
    "import pandas as pd\n",
    "import numpy as np\n",
    "import statistics as st\n",
    "import stemgraphic as ste"
   ]
  },
  {
   "cell_type": "code",
   "execution_count": null,
   "metadata": {},
   "outputs": [],
   "source": [
    "pydataset.data('titanic', show_doc=True)"
   ]
  },
  {
   "cell_type": "markdown",
   "metadata": {},
   "source": [
    "1 - Faça um head() dos conjuntos de dados."
   ]
  },
  {
   "cell_type": "code",
   "execution_count": null,
   "metadata": {},
   "outputs": [],
   "source": [
    "titanic = pydataset.data('titanic')\n",
    "titanic.head()"
   ]
  },
  {
   "cell_type": "markdown",
   "metadata": {},
   "source": [
    "2 - Construa uma distribuição de freqüência completa para as variáveis categóricas dos conjuntos de dados."
   ]
  },
  {
   "cell_type": "code",
   "execution_count": null,
   "metadata": {},
   "outputs": [],
   "source": [
    "for metric in list(titanic.columns):\n",
    "    absolute, relative = titanic[metric].value_counts(), titanic[metric].value_counts(normalize=True)\n",
    "    print(50*'-')\n",
    "    dict_results = {'Column': metric,\n",
    "                     'Value': list(absolute.index), \n",
    "                     'Fi': list(absolute), #Frequencia absoluta\n",
    "                     'fi%': list(relative), #Frequencia relativa\n",
    "                     'Fai': list(np.cumsum(absolute)), #Frequencia acumulada absoluta\n",
    "                     'fai%': list(np.cumsum(relative))} #Frequencia acumulada relativa                \n",
    "    df_results = pd.DataFrame(dict_results)\n",
    "    print(df_results)"
   ]
  },
  {
   "cell_type": "markdown",
   "metadata": {},
   "source": [
    "3 - Construa gráficos adequados para representar:\n",
    "- Titanic: sobreviventes por categoria; mortos por sexo e idade."
   ]
  },
  {
   "cell_type": "code",
   "execution_count": 1,
   "metadata": {},
   "outputs": [
    {
     "ename": "NameError",
     "evalue": "name 'titanic' is not defined",
     "output_type": "error",
     "traceback": [
      "\u001b[1;31m---------------------------------------------------------------------------\u001b[0m",
      "\u001b[1;31mNameError\u001b[0m                                 Traceback (most recent call last)",
      "\u001b[1;32m<ipython-input-1-a234c8283509>\u001b[0m in \u001b[0;36m<module>\u001b[1;34m\u001b[0m\n\u001b[1;32m----> 1\u001b[1;33m titanic[titanic['survived']=='yes'].groupby('class')['survived'].value_counts().plot(kind='barh', \n\u001b[0m\u001b[0;32m      2\u001b[0m                                                                                      \u001b[0mtitle\u001b[0m\u001b[1;33m=\u001b[0m\u001b[1;34m'Sobreviventes por categorias'\u001b[0m\u001b[1;33m,\u001b[0m\u001b[1;33m\u001b[0m\u001b[1;33m\u001b[0m\u001b[0m\n\u001b[0;32m      3\u001b[0m                                                                                      \u001b[0mgrid\u001b[0m\u001b[1;33m=\u001b[0m\u001b[1;32mFalse\u001b[0m\u001b[1;33m,\u001b[0m\u001b[1;33m\u001b[0m\u001b[1;33m\u001b[0m\u001b[0m\n\u001b[0;32m      4\u001b[0m                                                                                      fontsize=12)\n\u001b[0;32m      5\u001b[0m \u001b[0mplt\u001b[0m\u001b[1;33m.\u001b[0m\u001b[0mylabel\u001b[0m\u001b[1;33m(\u001b[0m\u001b[1;34m'Class, Survivelance'\u001b[0m\u001b[1;33m)\u001b[0m\u001b[1;33m\u001b[0m\u001b[1;33m\u001b[0m\u001b[0m\n",
      "\u001b[1;31mNameError\u001b[0m: name 'titanic' is not defined"
     ]
    }
   ],
   "source": [
    "titanic[titanic['survived']=='yes'].groupby('class')['survived'].value_counts().plot(kind='barh', \n",
    "                                                                                     title='Sobreviventes por categorias', \n",
    "                                                                                     grid=False, \n",
    "                                                                                     fontsize=12)\n",
    "plt.ylabel('class, sobreviventes')\n",
    "plt.xlabel('frequencia absoluta')\n",
    "\n",
    "nr_labels = list(titanic[titanic['survived']=='yes'].groupby('class')['survived'].value_counts())\n",
    "\n",
    "for i, v in enumerate(nr_labels):\n",
    "    plt.text(x = v + 12, y = i - .10, s= str(v), color='k', fontsize=12)\n",
    "\n",
    "plt.show()"
   ]
  },
  {
   "cell_type": "code",
   "execution_count": null,
   "metadata": {},
   "outputs": [],
   "source": [
    "titanic[titanic['survived']=='no'].groupby(['sex', 'age'])['survived'].value_counts().plot(kind='barh', \n",
    "                                                                                           title='Mortos por sexo e idade', \n",
    "                                                                                           grid=False, fontsize=12)\n",
    "plt.ylabel('sexo, idade, sobreviventes')\n",
    "plt.xlabel('frequencia absoluta')\n",
    "\n",
    "nr_labels = list(titanic[titanic['survived']=='no'].groupby(['sex', 'age'])['survived'].value_counts())\n",
    "\n",
    "for i, v in enumerate(nr_labels):\n",
    "    plt.text(x = v + 40, y = i - .10, s= str(v), color='k', fontsize=12)\n",
    "\n",
    "plt.show()"
   ]
  },
  {
   "cell_type": "markdown",
   "metadata": {},
   "source": [
    "4 - Construa histogramas para:\n",
    "- Titanic: categoria"
   ]
  },
  {
   "cell_type": "code",
   "execution_count": null,
   "metadata": {},
   "outputs": [],
   "source": [
    "print(titanic['class'].value_counts())\n",
    "titanic['class'].value_counts().plot(kind='hist', title='Histogram Category', fontsize=12, color='#607c8e')\n",
    "plt.grid(axis='y', alpha=0.75)\n",
    "plt.ylim(0, 2.10)\n",
    "plt.xlim(250, 750)\n",
    "plt.show()"
   ]
  },
  {
   "cell_type": "markdown",
   "metadata": {},
   "source": [
    "5 - Construa diagramas de ramos e folhas para:\n",
    "- Titanic: categoria\n",
    "    \n",
    "- Obs: use matplotlib.pyplot.stem"
   ]
  },
  {
   "cell_type": "code",
   "execution_count": null,
   "metadata": {},
   "outputs": [],
   "source": [
    "graph = ste.stem_graphic(titanic.groupby('class').size())\n",
    "plt.show(graph)"
   ]
  },
  {
   "cell_type": "markdown",
   "metadata": {},
   "source": [
    "6 - Calcule a média aritmética para classe no Titanic e quartos no Copacabana."
   ]
  },
  {
   "cell_type": "code",
   "execution_count": null,
   "metadata": {},
   "outputs": [],
   "source": [
    "titanic.groupby('class').size().mean()"
   ]
  },
  {
   "cell_type": "markdown",
   "metadata": {},
   "source": [
    "7 - Calcule a moda para classe no Titanic e quartos no Copacabana."
   ]
  },
  {
   "cell_type": "code",
   "execution_count": null,
   "metadata": {},
   "outputs": [],
   "source": [
    "result_moda = list(titanic['class'].mode())\n",
    "titanic[titanic['class']==result_moda[0]].groupby('class').size()"
   ]
  },
  {
   "cell_type": "markdown",
   "metadata": {},
   "source": [
    "8 - Calcule a mediana para classe no Titanic e quartos no Copacabana."
   ]
  },
  {
   "cell_type": "code",
   "execution_count": null,
   "metadata": {},
   "outputs": [],
   "source": [
    "titanic.groupby('class').size().median()"
   ]
  },
  {
   "cell_type": "markdown",
   "metadata": {},
   "source": [
    "9 - Calcule as medidas de dispersão para classe no Titanic e quartos no Copacabana."
   ]
  },
  {
   "cell_type": "code",
   "execution_count": null,
   "metadata": {},
   "outputs": [],
   "source": [
    "desc = dict(titanic.groupby('class').size().describe())\n",
    "list_titanic = list(titanic['class'].value_counts())\n",
    "\n",
    "total_amplitude, interquart_amplitude, list_dict, standard_deviation = (desc['max']-desc['min'], \n",
    "                                                                        desc['75%']-desc['25%'], \n",
    "                                                                        [desc['75%'],desc['25%']],\n",
    "                                                                       desc['std'])                                     \n",
    "semi_interq_ampl = (list_dict[0]-list_dict[1])/(len(list_dict))\n",
    "series_list = pd.Series(list_titanic)\n",
    "mean_deviation, variance_value, coef_variation = (series_list.mad(), \n",
    "                                                  st.variance(list_titanic), \n",
    "                                                  (standard_deviation)/(st.mean(list_titanic)))\n",
    "\n",
    "df_result = pd.DataFrame([('Total Amplitude', total_amplitude),\n",
    "                          ('Interquart. Ampli.', interquart_amplitude),\n",
    "                          ('semi-interquar. Ampl.', semi_interq_ampl),\n",
    "                          ('Mean Deviation', mean_deviation),\n",
    "                          ('Standard Deviation', standard_deviation),\n",
    "                          ('Variance', variance_value),\n",
    "                          ('Coefficient Variation', coef_variation)],\n",
    "                         columns=['Dispersion Metric', 'Result'])\n",
    "df_result"
   ]
  },
  {
   "cell_type": "markdown",
   "metadata": {},
   "source": [
    "10 - Determine e interprete as medidas de assimetria e curtose para classe no Titanic e quartos no Copacabana."
   ]
  },
  {
   "cell_type": "code",
   "execution_count": null,
   "metadata": {},
   "outputs": [],
   "source": [
    "def getMode():\n",
    "    list_mode = list(titanic['class'].mode())\n",
    "    list_mode = list(titanic[titanic['class'] == list_mode[0]].groupby('class').size())\n",
    "    return list_mode[0]\n",
    "\n",
    "def getStandardDeviation():\n",
    "    desc = dict(titanic.groupby('class').size().describe())\n",
    "    return desc['std']\n",
    "\n",
    "mean_value = titanic.groupby('class').size().mean()\n",
    "mode_value = getMode()\n",
    "stand_deviation = getStandardDeviation()\n",
    "median_value = titanic.groupby('class').size().median()\n",
    "\n",
    "coef_pearson = (mean_value - mode_value)/(stand_deviation)\n",
    "\n",
    "if (coef_pearson == 0) or (mean_value == median_value and median_value == mode_value):\n",
    "    print('A medida de assimetria é: simétrica! \\n Resultado: {}'.format(coef_pearson))\n",
    "elif (coef_pearson < 0) or (mean_value <= median_value and median_value <= mode_value):\n",
    "    print('A medida de assimetria é: Assimétrica negativa! \\n Resultado: {}'.format(coef_pearson))\n",
    "elif (coef_pearson > 0) or (mean_value <= median_value and median_value <= mode_value):\n",
    "    print('A medida de assimetria é: Assimétrica positiva! \\n Resultado: {}'.format(coef_pearson))"
   ]
  },
  {
   "cell_type": "code",
   "execution_count": null,
   "metadata": {},
   "outputs": [],
   "source": [
    "def getTotalAmplitude():\n",
    "    desc = dict(titanic.groupby('class').size().describe())\n",
    "    q3 = desc['75%']\n",
    "    q1 = desc['25%']\n",
    "    return q3 - q1\n",
    "\n",
    "total_amplitude = getTotalAmplitude()\n",
    "p90 = np.percentile(list(titanic['class'].value_counts()), 90)\n",
    "p10 = np.percentile(list(titanic['class'].value_counts()),10)\n",
    "\n",
    "k = (total_amplitude)/(2 * (p90 - p10))\n",
    "\n",
    "if (k < 0.263):\n",
    "    print('A distribuição referente ao grau de achatamento é Leptocúrtica! \\n Curtose = {}'.format(k))\n",
    "elif (k == 0.263):\n",
    "    print('A distribuição referente ao grau de achatamento é Mesocúrtica! \\n Curtose = {}'.format(k))\n",
    "else:\n",
    "    print('A distribuição referente ao grau de achatamento é Platicúrtica! \\n Curtose = {}'.format(k))"
   ]
  },
  {
   "cell_type": "markdown",
   "metadata": {},
   "source": [
    "11 - Faça o gráfico Box Plot para classe no Titanic e quartos no Copacabana."
   ]
  },
  {
   "cell_type": "code",
   "execution_count": null,
   "metadata": {},
   "outputs": [],
   "source": [
    "print(titanic['class'].value_counts())\n",
    "titanic['class'].value_counts().plot(kind='box', title='Class Box Graph', fontsize=12)\n",
    "plt.grid(axis='y')\n",
    "plt.ylim(200,800)\n",
    "plt.ylabel('Absolute Frequency')\n",
    "plt.show()"
   ]
  },
  {
   "cell_type": "code",
   "execution_count": null,
   "metadata": {},
   "outputs": [],
   "source": []
  }
 ],
 "metadata": {
  "kernelspec": {
   "display_name": "Python 3",
   "language": "python",
   "name": "python3"
  },
  "language_info": {
   "codemirror_mode": {
    "name": "ipython",
    "version": 3
   },
   "file_extension": ".py",
   "mimetype": "text/x-python",
   "name": "python",
   "nbconvert_exporter": "python",
   "pygments_lexer": "ipython3",
   "version": "3.7.3"
  }
 },
 "nbformat": 4,
 "nbformat_minor": 2
}
